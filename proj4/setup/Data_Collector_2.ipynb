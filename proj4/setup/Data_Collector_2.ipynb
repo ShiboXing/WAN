{
 "cells": [
  {
   "cell_type": "code",
   "execution_count": 1,
   "id": "7c1c5192",
   "metadata": {},
   "outputs": [],
   "source": [
    "import pandas as pd\n",
    "import time, os, json\n",
    "import subprocess"
   ]
  },
  {
   "cell_type": "code",
   "execution_count": 2,
   "id": "2bff7e50",
   "metadata": {},
   "outputs": [
    {
     "name": "stdout",
     "output_type": "stream",
     "text": [
      "hostname: sender.qyl-project1.ch-geni-net.geni.uchicago.edu\n",
      "lsof: unacceptable port specification in: -i :\n",
      "lsof 4.89\n",
      " latest revision: ftp://lsof.itap.purdue.edu/pub/tools/unix/lsof/\n",
      " latest FAQ: ftp://lsof.itap.purdue.edu/pub/tools/unix/lsof/FAQ\n",
      " latest man page: ftp://lsof.itap.purdue.edu/pub/tools/unix/lsof/lsof_man\n",
      " usage: [-?abhKlnNoOPRtUvVX] [+|-c c] [+|-d s] [+D D] [+|-E] [+|-e s] [+|-f[gG]]\n",
      " [-F [f]] [-g [s]] [-i [i]] [+|-L [l]] [+m [m]] [+|-M] [-o [o]] [-p s]\n",
      " [+|-r [t]] [-s [p:s]] [-S [t]] [-T [t]] [-u s] [+|-w] [-x [fl]] [--] [names]\n",
      "Use the ``-h'' option to get more help information.\n",
      "\n",
      "Usage:\n",
      " kill [options] <pid> [...]\n",
      "\n",
      "Options:\n",
      " <pid> [...]            send signal to every <pid> listed\n",
      " -<signal>, -s, --signal <signal>\n",
      "                        specify the <signal> to be sent\n",
      " -l, --list=[<signal>]  list all signal names, or convert one to a name\n",
      " -L, --table            list all signal names in a nice table\n",
      "\n",
      " -h, --help     display this help and exit\n",
      " -V, --version  output version information and exit\n",
      "\n",
      "For more details see kill(1).\n",
      "lsof: unacceptable port specification in: -i :\n",
      "lsof 4.89\n",
      " latest revision: ftp://lsof.itap.purdue.edu/pub/tools/unix/lsof/\n",
      " latest FAQ: ftp://lsof.itap.purdue.edu/pub/tools/unix/lsof/FAQ\n",
      " latest man page: ftp://lsof.itap.purdue.edu/pub/tools/unix/lsof/lsof_man\n",
      " usage: [-?abhKlnNoOPRtUvVX] [+|-c c] [+|-d s] [+D D] [+|-E] [+|-e s] [+|-f[gG]]\n",
      " [-F [f]] [-g [s]] [-i [i]] [+|-L [l]] [+m [m]] [+|-M] [-o [o]] [-p s]\n",
      " [+|-r [t]] [-s [p:s]] [-S [t]] [-T [t]] [-u s] [+|-w] [-x [fl]] [--] [names]\n",
      "Use the ``-h'' option to get more help information.\n",
      "\n",
      "Usage:\n",
      " kill [options] <pid> [...]\n",
      "\n",
      "Options:\n",
      " <pid> [...]            send signal to every <pid> listed\n",
      " -<signal>, -s, --signal <signal>\n",
      "                        specify the <signal> to be sent\n",
      " -l, --list=[<signal>]  list all signal names, or convert one to a name\n",
      " -L, --table            list all signal names in a nice table\n",
      "\n",
      " -h, --help     display this help and exit\n",
      " -V, --version  output version information and exit\n",
      "\n",
      "For more details see kill(1).\n",
      "RTNETLINK answers: No such file or directory\n",
      "RTNETLINK answers: No such file or directory\n",
      "Cannot find device \"eth2\"\n"
     ]
    }
   ],
   "source": [
    "!source testbed_setup.sh\n",
    "!source exp1_kill.sh"
   ]
  },
  {
   "cell_type": "markdown",
   "id": "5be0307a",
   "metadata": {},
   "source": [
    "### EXP 3 data collection"
   ]
  },
  {
   "cell_type": "code",
   "execution_count": 3,
   "id": "8f576f21",
   "metadata": {},
   "outputs": [],
   "source": [
    "bw = 10 # mb\n",
    "rtt = 40 # ms\n",
    "reno_num = (9, 13)\n",
    "bbr_num = (9, 13)\n",
    "bdp = 4\n",
    "loss_rate = [1, 2, 5, 10, 20, 50]"
   ]
  },
  {
   "cell_type": "code",
   "execution_count": 4,
   "id": "402ee1bb",
   "metadata": {},
   "outputs": [
    {
     "name": "stdout",
     "output_type": "stream",
     "text": [
      "b'hostname: sender.qyl-project1.ch-geni-net.geni.uchicago.edu\\nrunning the experiments now queue: 4 bbr_num: 9 cubic_num: 9 bw: 10 rtt: 40\\n'\n"
     ]
    },
    {
     "name": "stderr",
     "output_type": "stream",
     "text": [
      "ERROR:root:Internal Python error in the inspect module.\n",
      "Below is the traceback from this internal error.\n",
      "\n",
      "\n",
      "KeyboardInterrupt\n",
      "\n"
     ]
    }
   ],
   "source": [
    "for r_num in reno_num:\n",
    "    for b_num in bbr_num:\n",
    "        output = subprocess.check_output(f\"source exp1_run.sh {bdp} {b_num} {r_num} {bw} {rtt} 60\", shell=True, executable=\"/bin/bash\")\n",
    "#                 os.environ.update(line.partition('=')[::2] for line in output.split('\\0'))\n",
    "#                 !source exp1_run.sh $q $b_num $r_num $bw $rtt\n",
    "        print(output)\n",
    "        time.sleep(60)\n",
    "        print(f'exp: {queues[q_ind]} {b_num} {r_num} {bw} {rtt} {times[q_ind]} completed')"
   ]
  },
  {
   "cell_type": "code",
   "execution_count": null,
   "id": "a22f0466",
   "metadata": {},
   "outputs": [],
   "source": []
  }
 ],
 "metadata": {
  "kernelspec": {
   "display_name": "Python 3 (ipykernel)",
   "language": "python",
   "name": "python3"
  },
  "language_info": {
   "codemirror_mode": {
    "name": "ipython",
    "version": 3
   },
   "file_extension": ".py",
   "mimetype": "text/x-python",
   "name": "python",
   "nbconvert_exporter": "python",
   "pygments_lexer": "ipython3",
   "version": "3.9.7"
  }
 },
 "nbformat": 4,
 "nbformat_minor": 5
}
