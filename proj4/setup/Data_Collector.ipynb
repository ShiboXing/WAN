{
 "cells": [
  {
   "cell_type": "code",
   "execution_count": 7,
   "id": "7c1c5192",
   "metadata": {},
   "outputs": [],
   "source": [
    "import pandas as pd\n",
    "import time, os, json\n",
    "import subprocess"
   ]
  },
  {
   "cell_type": "code",
   "execution_count": 8,
   "id": "b4865751",
   "metadata": {},
   "outputs": [],
   "source": [
    "bw = 10 # mb\n",
    "rtt = 40 # ms\n",
    "reno_num = range(1, 34, 4)\n",
    "bbr_num = range(1, 34, 4)\n",
    "\n",
    "queues = [0.25, 0.5, 1, 4, 8, 16, 32]\n",
    "times = [60, 60, 60, 60, 60, 100, 200]\n",
    "q_ind = 6\n"
   ]
  },
  {
   "cell_type": "markdown",
   "id": "6db4c2d9",
   "metadata": {},
   "source": [
    "### total experiment time (hours)"
   ]
  },
  {
   "cell_type": "code",
   "execution_count": 3,
   "id": "7748699e",
   "metadata": {},
   "outputs": [
    {
     "data": {
      "text/plain": [
       "13.5"
      ]
     },
     "execution_count": 3,
     "metadata": {},
     "output_type": "execute_result"
    }
   ],
   "source": [
    "comb = len(reno_num) * len(bbr_num)\n",
    "(comb * 5 * 60 + comb * 1 * 100 + comb * 1 * 200) / 3600"
   ]
  },
  {
   "cell_type": "markdown",
   "id": "1091e0aa",
   "metadata": {},
   "source": [
    "### execute the experiment"
   ]
  },
  {
   "cell_type": "code",
   "execution_count": 4,
   "id": "822c3141",
   "metadata": {
    "scrolled": true
   },
   "outputs": [
    {
     "name": "stdout",
     "output_type": "stream",
     "text": [
      "hostname: sender.qyl-project1.ch-geni-net.geni.uchicago.edu\n",
      "lsof: unacceptable port specification in: -i :\n",
      "lsof 4.89\n",
      " latest revision: ftp://lsof.itap.purdue.edu/pub/tools/unix/lsof/\n",
      " latest FAQ: ftp://lsof.itap.purdue.edu/pub/tools/unix/lsof/FAQ\n",
      " latest man page: ftp://lsof.itap.purdue.edu/pub/tools/unix/lsof/lsof_man\n",
      " usage: [-?abhKlnNoOPRtUvVX] [+|-c c] [+|-d s] [+D D] [+|-E] [+|-e s] [+|-f[gG]]\n",
      " [-F [f]] [-g [s]] [-i [i]] [+|-L [l]] [+m [m]] [+|-M] [-o [o]] [-p s]\n",
      " [+|-r [t]] [-s [p:s]] [-S [t]] [-T [t]] [-u s] [+|-w] [-x [fl]] [--] [names]\n",
      "Use the ``-h'' option to get more help information.\n",
      "\n",
      "Usage:\n",
      " kill [options] <pid> [...]\n",
      "\n",
      "Options:\n",
      " <pid> [...]            send signal to every <pid> listed\n",
      " -<signal>, -s, --signal <signal>\n",
      "                        specify the <signal> to be sent\n",
      " -l, --list=[<signal>]  list all signal names, or convert one to a name\n",
      " -L, --table            list all signal names in a nice table\n",
      "\n",
      " -h, --help     display this help and exit\n",
      " -V, --version  output version information and exit\n",
      "\n",
      "For more details see kill(1).\n",
      "lsof: unacceptable port specification in: -i :\n",
      "lsof 4.89\n",
      " latest revision: ftp://lsof.itap.purdue.edu/pub/tools/unix/lsof/\n",
      " latest FAQ: ftp://lsof.itap.purdue.edu/pub/tools/unix/lsof/FAQ\n",
      " latest man page: ftp://lsof.itap.purdue.edu/pub/tools/unix/lsof/lsof_man\n",
      " usage: [-?abhKlnNoOPRtUvVX] [+|-c c] [+|-d s] [+D D] [+|-E] [+|-e s] [+|-f[gG]]\n",
      " [-F [f]] [-g [s]] [-i [i]] [+|-L [l]] [+m [m]] [+|-M] [-o [o]] [-p s]\n",
      " [+|-r [t]] [-s [p:s]] [-S [t]] [-T [t]] [-u s] [+|-w] [-x [fl]] [--] [names]\n",
      "Use the ``-h'' option to get more help information.\n",
      "\n",
      "Usage:\n",
      " kill [options] <pid> [...]\n",
      "\n",
      "Options:\n",
      " <pid> [...]            send signal to every <pid> listed\n",
      " -<signal>, -s, --signal <signal>\n",
      "                        specify the <signal> to be sent\n",
      " -l, --list=[<signal>]  list all signal names, or convert one to a name\n",
      " -L, --table            list all signal names in a nice table\n",
      "\n",
      " -h, --help     display this help and exit\n",
      " -V, --version  output version information and exit\n",
      "\n",
      "For more details see kill(1).\n",
      "RTNETLINK answers: No such file or directory\n",
      "RTNETLINK answers: No such file or directory\n",
      "Cannot find device \"eth2\"\n"
     ]
    }
   ],
   "source": [
    "!source testbed_setup.sh\n",
    "!source exp1_kill.sh"
   ]
  },
  {
   "cell_type": "code",
   "execution_count": 5,
   "id": "5fdf64cd",
   "metadata": {},
   "outputs": [
    {
     "name": "stdout",
     "output_type": "stream",
     "text": [
      "b'hostname: sender.qyl-project1.ch-geni-net.geni.uchicago.edu\\nrunning the experiments now queue: 32 bbr_num: 1 cubic_num: 1 bw: 10 rtt: 40\\n'\n",
      "exp: 32 1 1 10 40 200 completed\n",
      "b'hostname: sender.qyl-project1.ch-geni-net.geni.uchicago.edu\\nrunning the experiments now queue: 32 bbr_num: 5 cubic_num: 1 bw: 10 rtt: 40\\n'\n",
      "exp: 32 5 1 10 40 200 completed\n",
      "b'hostname: sender.qyl-project1.ch-geni-net.geni.uchicago.edu\\nrunning the experiments now queue: 32 bbr_num: 9 cubic_num: 1 bw: 10 rtt: 40\\n'\n",
      "exp: 32 9 1 10 40 200 completed\n",
      "b'hostname: sender.qyl-project1.ch-geni-net.geni.uchicago.edu\\nrunning the experiments now queue: 32 bbr_num: 13 cubic_num: 1 bw: 10 rtt: 40\\n'\n",
      "exp: 32 13 1 10 40 200 completed\n",
      "b'hostname: sender.qyl-project1.ch-geni-net.geni.uchicago.edu\\nrunning the experiments now queue: 32 bbr_num: 17 cubic_num: 1 bw: 10 rtt: 40\\n'\n",
      "exp: 32 17 1 10 40 200 completed\n",
      "b'hostname: sender.qyl-project1.ch-geni-net.geni.uchicago.edu\\nrunning the experiments now queue: 32 bbr_num: 21 cubic_num: 1 bw: 10 rtt: 40\\n'\n",
      "exp: 32 21 1 10 40 200 completed\n",
      "b'hostname: sender.qyl-project1.ch-geni-net.geni.uchicago.edu\\nrunning the experiments now queue: 32 bbr_num: 25 cubic_num: 1 bw: 10 rtt: 40\\n'\n",
      "exp: 32 25 1 10 40 200 completed\n",
      "b'hostname: sender.qyl-project1.ch-geni-net.geni.uchicago.edu\\nrunning the experiments now queue: 32 bbr_num: 29 cubic_num: 1 bw: 10 rtt: 40\\n'\n",
      "exp: 32 29 1 10 40 200 completed\n",
      "b'hostname: sender.qyl-project1.ch-geni-net.geni.uchicago.edu\\nrunning the experiments now queue: 32 bbr_num: 33 cubic_num: 1 bw: 10 rtt: 40\\n'\n",
      "exp: 32 33 1 10 40 200 completed\n",
      "b'hostname: sender.qyl-project1.ch-geni-net.geni.uchicago.edu\\nrunning the experiments now queue: 32 bbr_num: 1 cubic_num: 5 bw: 10 rtt: 40\\n'\n",
      "exp: 32 1 5 10 40 200 completed\n",
      "b'hostname: sender.qyl-project1.ch-geni-net.geni.uchicago.edu\\nrunning the experiments now queue: 32 bbr_num: 5 cubic_num: 5 bw: 10 rtt: 40\\n'\n",
      "exp: 32 5 5 10 40 200 completed\n",
      "b'hostname: sender.qyl-project1.ch-geni-net.geni.uchicago.edu\\nrunning the experiments now queue: 32 bbr_num: 9 cubic_num: 5 bw: 10 rtt: 40\\n'\n",
      "exp: 32 9 5 10 40 200 completed\n",
      "b'hostname: sender.qyl-project1.ch-geni-net.geni.uchicago.edu\\nrunning the experiments now queue: 32 bbr_num: 13 cubic_num: 5 bw: 10 rtt: 40\\n'\n",
      "exp: 32 13 5 10 40 200 completed\n",
      "b'hostname: sender.qyl-project1.ch-geni-net.geni.uchicago.edu\\nrunning the experiments now queue: 32 bbr_num: 17 cubic_num: 5 bw: 10 rtt: 40\\n'\n",
      "exp: 32 17 5 10 40 200 completed\n",
      "b'hostname: sender.qyl-project1.ch-geni-net.geni.uchicago.edu\\nrunning the experiments now queue: 32 bbr_num: 21 cubic_num: 5 bw: 10 rtt: 40\\n'\n",
      "exp: 32 21 5 10 40 200 completed\n",
      "b'hostname: sender.qyl-project1.ch-geni-net.geni.uchicago.edu\\nrunning the experiments now queue: 32 bbr_num: 25 cubic_num: 5 bw: 10 rtt: 40\\n'\n",
      "exp: 32 25 5 10 40 200 completed\n",
      "b'hostname: sender.qyl-project1.ch-geni-net.geni.uchicago.edu\\nrunning the experiments now queue: 32 bbr_num: 29 cubic_num: 5 bw: 10 rtt: 40\\n'\n",
      "exp: 32 29 5 10 40 200 completed\n",
      "b'hostname: sender.qyl-project1.ch-geni-net.geni.uchicago.edu\\nrunning the experiments now queue: 32 bbr_num: 33 cubic_num: 5 bw: 10 rtt: 40\\n'\n",
      "exp: 32 33 5 10 40 200 completed\n",
      "b'hostname: sender.qyl-project1.ch-geni-net.geni.uchicago.edu\\nrunning the experiments now queue: 32 bbr_num: 1 cubic_num: 9 bw: 10 rtt: 40\\n'\n",
      "exp: 32 1 9 10 40 200 completed\n",
      "b'hostname: sender.qyl-project1.ch-geni-net.geni.uchicago.edu\\nrunning the experiments now queue: 32 bbr_num: 5 cubic_num: 9 bw: 10 rtt: 40\\n'\n",
      "exp: 32 5 9 10 40 200 completed\n",
      "b'hostname: sender.qyl-project1.ch-geni-net.geni.uchicago.edu\\nrunning the experiments now queue: 32 bbr_num: 9 cubic_num: 9 bw: 10 rtt: 40\\n'\n",
      "exp: 32 9 9 10 40 200 completed\n",
      "b'hostname: sender.qyl-project1.ch-geni-net.geni.uchicago.edu\\nrunning the experiments now queue: 32 bbr_num: 13 cubic_num: 9 bw: 10 rtt: 40\\n'\n",
      "exp: 32 13 9 10 40 200 completed\n",
      "b'hostname: sender.qyl-project1.ch-geni-net.geni.uchicago.edu\\nrunning the experiments now queue: 32 bbr_num: 17 cubic_num: 9 bw: 10 rtt: 40\\n'\n",
      "exp: 32 17 9 10 40 200 completed\n",
      "b'hostname: sender.qyl-project1.ch-geni-net.geni.uchicago.edu\\nrunning the experiments now queue: 32 bbr_num: 21 cubic_num: 9 bw: 10 rtt: 40\\n'\n",
      "exp: 32 21 9 10 40 200 completed\n",
      "b'hostname: sender.qyl-project1.ch-geni-net.geni.uchicago.edu\\nrunning the experiments now queue: 32 bbr_num: 25 cubic_num: 9 bw: 10 rtt: 40\\n'\n",
      "exp: 32 25 9 10 40 200 completed\n",
      "b'hostname: sender.qyl-project1.ch-geni-net.geni.uchicago.edu\\nrunning the experiments now queue: 32 bbr_num: 29 cubic_num: 9 bw: 10 rtt: 40\\n'\n",
      "exp: 32 29 9 10 40 200 completed\n",
      "b'hostname: sender.qyl-project1.ch-geni-net.geni.uchicago.edu\\nrunning the experiments now queue: 32 bbr_num: 33 cubic_num: 9 bw: 10 rtt: 40\\n'\n",
      "exp: 32 33 9 10 40 200 completed\n",
      "b'hostname: sender.qyl-project1.ch-geni-net.geni.uchicago.edu\\nrunning the experiments now queue: 32 bbr_num: 1 cubic_num: 13 bw: 10 rtt: 40\\n'\n",
      "exp: 32 1 13 10 40 200 completed\n",
      "b'hostname: sender.qyl-project1.ch-geni-net.geni.uchicago.edu\\nrunning the experiments now queue: 32 bbr_num: 5 cubic_num: 13 bw: 10 rtt: 40\\n'\n",
      "exp: 32 5 13 10 40 200 completed\n",
      "b'hostname: sender.qyl-project1.ch-geni-net.geni.uchicago.edu\\nrunning the experiments now queue: 32 bbr_num: 9 cubic_num: 13 bw: 10 rtt: 40\\n'\n",
      "exp: 32 9 13 10 40 200 completed\n",
      "b'hostname: sender.qyl-project1.ch-geni-net.geni.uchicago.edu\\nrunning the experiments now queue: 32 bbr_num: 13 cubic_num: 13 bw: 10 rtt: 40\\n'\n",
      "exp: 32 13 13 10 40 200 completed\n",
      "b'hostname: sender.qyl-project1.ch-geni-net.geni.uchicago.edu\\nrunning the experiments now queue: 32 bbr_num: 17 cubic_num: 13 bw: 10 rtt: 40\\n'\n",
      "exp: 32 17 13 10 40 200 completed\n",
      "b'hostname: sender.qyl-project1.ch-geni-net.geni.uchicago.edu\\nrunning the experiments now queue: 32 bbr_num: 21 cubic_num: 13 bw: 10 rtt: 40\\n'\n",
      "exp: 32 21 13 10 40 200 completed\n",
      "b'hostname: sender.qyl-project1.ch-geni-net.geni.uchicago.edu\\nrunning the experiments now queue: 32 bbr_num: 25 cubic_num: 13 bw: 10 rtt: 40\\n'\n",
      "exp: 32 25 13 10 40 200 completed\n",
      "b'hostname: sender.qyl-project1.ch-geni-net.geni.uchicago.edu\\nrunning the experiments now queue: 32 bbr_num: 29 cubic_num: 13 bw: 10 rtt: 40\\n'\n",
      "exp: 32 29 13 10 40 200 completed\n",
      "b'hostname: sender.qyl-project1.ch-geni-net.geni.uchicago.edu\\nrunning the experiments now queue: 32 bbr_num: 33 cubic_num: 13 bw: 10 rtt: 40\\n'\n",
      "exp: 32 33 13 10 40 200 completed\n",
      "b'hostname: sender.qyl-project1.ch-geni-net.geni.uchicago.edu\\nrunning the experiments now queue: 32 bbr_num: 1 cubic_num: 17 bw: 10 rtt: 40\\n'\n",
      "exp: 32 1 17 10 40 200 completed\n",
      "b'hostname: sender.qyl-project1.ch-geni-net.geni.uchicago.edu\\nrunning the experiments now queue: 32 bbr_num: 5 cubic_num: 17 bw: 10 rtt: 40\\n'\n",
      "exp: 32 5 17 10 40 200 completed\n",
      "b'hostname: sender.qyl-project1.ch-geni-net.geni.uchicago.edu\\nrunning the experiments now queue: 32 bbr_num: 9 cubic_num: 17 bw: 10 rtt: 40\\n'\n",
      "exp: 32 9 17 10 40 200 completed\n",
      "b'hostname: sender.qyl-project1.ch-geni-net.geni.uchicago.edu\\nrunning the experiments now queue: 32 bbr_num: 13 cubic_num: 17 bw: 10 rtt: 40\\n'\n",
      "exp: 32 13 17 10 40 200 completed\n",
      "b'hostname: sender.qyl-project1.ch-geni-net.geni.uchicago.edu\\nrunning the experiments now queue: 32 bbr_num: 17 cubic_num: 17 bw: 10 rtt: 40\\n'\n",
      "exp: 32 17 17 10 40 200 completed\n",
      "b'hostname: sender.qyl-project1.ch-geni-net.geni.uchicago.edu\\nrunning the experiments now queue: 32 bbr_num: 21 cubic_num: 17 bw: 10 rtt: 40\\n'\n",
      "exp: 32 21 17 10 40 200 completed\n",
      "b'hostname: sender.qyl-project1.ch-geni-net.geni.uchicago.edu\\nrunning the experiments now queue: 32 bbr_num: 25 cubic_num: 17 bw: 10 rtt: 40\\n'\n",
      "exp: 32 25 17 10 40 200 completed\n",
      "b'hostname: sender.qyl-project1.ch-geni-net.geni.uchicago.edu\\nrunning the experiments now queue: 32 bbr_num: 29 cubic_num: 17 bw: 10 rtt: 40\\n'\n",
      "exp: 32 29 17 10 40 200 completed\n",
      "b'hostname: sender.qyl-project1.ch-geni-net.geni.uchicago.edu\\nrunning the experiments now queue: 32 bbr_num: 33 cubic_num: 17 bw: 10 rtt: 40\\n'\n",
      "exp: 32 33 17 10 40 200 completed\n",
      "b'hostname: sender.qyl-project1.ch-geni-net.geni.uchicago.edu\\nrunning the experiments now queue: 32 bbr_num: 1 cubic_num: 21 bw: 10 rtt: 40\\n'\n",
      "exp: 32 1 21 10 40 200 completed\n",
      "b'hostname: sender.qyl-project1.ch-geni-net.geni.uchicago.edu\\nrunning the experiments now queue: 32 bbr_num: 5 cubic_num: 21 bw: 10 rtt: 40\\n'\n"
     ]
    },
    {
     "name": "stdout",
     "output_type": "stream",
     "text": [
      "exp: 32 5 21 10 40 200 completed\n",
      "b'hostname: sender.qyl-project1.ch-geni-net.geni.uchicago.edu\\nrunning the experiments now queue: 32 bbr_num: 9 cubic_num: 21 bw: 10 rtt: 40\\n'\n",
      "exp: 32 9 21 10 40 200 completed\n",
      "b'hostname: sender.qyl-project1.ch-geni-net.geni.uchicago.edu\\nrunning the experiments now queue: 32 bbr_num: 13 cubic_num: 21 bw: 10 rtt: 40\\n'\n",
      "exp: 32 13 21 10 40 200 completed\n",
      "b'hostname: sender.qyl-project1.ch-geni-net.geni.uchicago.edu\\nrunning the experiments now queue: 32 bbr_num: 17 cubic_num: 21 bw: 10 rtt: 40\\n'\n",
      "exp: 32 17 21 10 40 200 completed\n",
      "b'hostname: sender.qyl-project1.ch-geni-net.geni.uchicago.edu\\nrunning the experiments now queue: 32 bbr_num: 21 cubic_num: 21 bw: 10 rtt: 40\\n'\n",
      "exp: 32 21 21 10 40 200 completed\n",
      "b'hostname: sender.qyl-project1.ch-geni-net.geni.uchicago.edu\\nrunning the experiments now queue: 32 bbr_num: 25 cubic_num: 21 bw: 10 rtt: 40\\n'\n",
      "exp: 32 25 21 10 40 200 completed\n",
      "b'hostname: sender.qyl-project1.ch-geni-net.geni.uchicago.edu\\nrunning the experiments now queue: 32 bbr_num: 29 cubic_num: 21 bw: 10 rtt: 40\\n'\n",
      "exp: 32 29 21 10 40 200 completed\n",
      "b'hostname: sender.qyl-project1.ch-geni-net.geni.uchicago.edu\\nrunning the experiments now queue: 32 bbr_num: 33 cubic_num: 21 bw: 10 rtt: 40\\n'\n",
      "exp: 32 33 21 10 40 200 completed\n",
      "b'hostname: sender.qyl-project1.ch-geni-net.geni.uchicago.edu\\nrunning the experiments now queue: 32 bbr_num: 1 cubic_num: 25 bw: 10 rtt: 40\\n'\n",
      "exp: 32 1 25 10 40 200 completed\n",
      "b'hostname: sender.qyl-project1.ch-geni-net.geni.uchicago.edu\\nrunning the experiments now queue: 32 bbr_num: 5 cubic_num: 25 bw: 10 rtt: 40\\n'\n",
      "exp: 32 5 25 10 40 200 completed\n",
      "b'hostname: sender.qyl-project1.ch-geni-net.geni.uchicago.edu\\nrunning the experiments now queue: 32 bbr_num: 9 cubic_num: 25 bw: 10 rtt: 40\\n'\n",
      "exp: 32 9 25 10 40 200 completed\n",
      "b'hostname: sender.qyl-project1.ch-geni-net.geni.uchicago.edu\\nrunning the experiments now queue: 32 bbr_num: 13 cubic_num: 25 bw: 10 rtt: 40\\n'\n",
      "exp: 32 13 25 10 40 200 completed\n",
      "b'hostname: sender.qyl-project1.ch-geni-net.geni.uchicago.edu\\nrunning the experiments now queue: 32 bbr_num: 17 cubic_num: 25 bw: 10 rtt: 40\\n'\n",
      "exp: 32 17 25 10 40 200 completed\n",
      "b'hostname: sender.qyl-project1.ch-geni-net.geni.uchicago.edu\\nrunning the experiments now queue: 32 bbr_num: 21 cubic_num: 25 bw: 10 rtt: 40\\n'\n",
      "exp: 32 21 25 10 40 200 completed\n",
      "b'hostname: sender.qyl-project1.ch-geni-net.geni.uchicago.edu\\nrunning the experiments now queue: 32 bbr_num: 25 cubic_num: 25 bw: 10 rtt: 40\\n'\n",
      "exp: 32 25 25 10 40 200 completed\n",
      "b'hostname: sender.qyl-project1.ch-geni-net.geni.uchicago.edu\\nrunning the experiments now queue: 32 bbr_num: 29 cubic_num: 25 bw: 10 rtt: 40\\n'\n",
      "exp: 32 29 25 10 40 200 completed\n",
      "b'hostname: sender.qyl-project1.ch-geni-net.geni.uchicago.edu\\nrunning the experiments now queue: 32 bbr_num: 33 cubic_num: 25 bw: 10 rtt: 40\\n'\n",
      "exp: 32 33 25 10 40 200 completed\n",
      "b'hostname: sender.qyl-project1.ch-geni-net.geni.uchicago.edu\\nrunning the experiments now queue: 32 bbr_num: 1 cubic_num: 29 bw: 10 rtt: 40\\n'\n",
      "exp: 32 1 29 10 40 200 completed\n",
      "b'hostname: sender.qyl-project1.ch-geni-net.geni.uchicago.edu\\nrunning the experiments now queue: 32 bbr_num: 5 cubic_num: 29 bw: 10 rtt: 40\\n'\n",
      "exp: 32 5 29 10 40 200 completed\n",
      "b'hostname: sender.qyl-project1.ch-geni-net.geni.uchicago.edu\\nrunning the experiments now queue: 32 bbr_num: 9 cubic_num: 29 bw: 10 rtt: 40\\n'\n",
      "exp: 32 9 29 10 40 200 completed\n",
      "b'hostname: sender.qyl-project1.ch-geni-net.geni.uchicago.edu\\nrunning the experiments now queue: 32 bbr_num: 13 cubic_num: 29 bw: 10 rtt: 40\\n'\n",
      "exp: 32 13 29 10 40 200 completed\n",
      "b'hostname: sender.qyl-project1.ch-geni-net.geni.uchicago.edu\\nrunning the experiments now queue: 32 bbr_num: 17 cubic_num: 29 bw: 10 rtt: 40\\n'\n",
      "exp: 32 17 29 10 40 200 completed\n",
      "b'hostname: sender.qyl-project1.ch-geni-net.geni.uchicago.edu\\nrunning the experiments now queue: 32 bbr_num: 21 cubic_num: 29 bw: 10 rtt: 40\\n'\n",
      "exp: 32 21 29 10 40 200 completed\n",
      "b'hostname: sender.qyl-project1.ch-geni-net.geni.uchicago.edu\\nrunning the experiments now queue: 32 bbr_num: 25 cubic_num: 29 bw: 10 rtt: 40\\n'\n",
      "exp: 32 25 29 10 40 200 completed\n",
      "b'hostname: sender.qyl-project1.ch-geni-net.geni.uchicago.edu\\nrunning the experiments now queue: 32 bbr_num: 29 cubic_num: 29 bw: 10 rtt: 40\\n'\n",
      "exp: 32 29 29 10 40 200 completed\n",
      "b'hostname: sender.qyl-project1.ch-geni-net.geni.uchicago.edu\\nrunning the experiments now queue: 32 bbr_num: 33 cubic_num: 29 bw: 10 rtt: 40\\n'\n",
      "exp: 32 33 29 10 40 200 completed\n",
      "b'hostname: sender.qyl-project1.ch-geni-net.geni.uchicago.edu\\nrunning the experiments now queue: 32 bbr_num: 1 cubic_num: 33 bw: 10 rtt: 40\\n'\n",
      "exp: 32 1 33 10 40 200 completed\n",
      "b'hostname: sender.qyl-project1.ch-geni-net.geni.uchicago.edu\\nrunning the experiments now queue: 32 bbr_num: 5 cubic_num: 33 bw: 10 rtt: 40\\n'\n",
      "exp: 32 5 33 10 40 200 completed\n",
      "b'hostname: sender.qyl-project1.ch-geni-net.geni.uchicago.edu\\nrunning the experiments now queue: 32 bbr_num: 9 cubic_num: 33 bw: 10 rtt: 40\\n'\n",
      "exp: 32 9 33 10 40 200 completed\n",
      "b'hostname: sender.qyl-project1.ch-geni-net.geni.uchicago.edu\\nrunning the experiments now queue: 32 bbr_num: 13 cubic_num: 33 bw: 10 rtt: 40\\n'\n",
      "exp: 32 13 33 10 40 200 completed\n",
      "b'hostname: sender.qyl-project1.ch-geni-net.geni.uchicago.edu\\nrunning the experiments now queue: 32 bbr_num: 17 cubic_num: 33 bw: 10 rtt: 40\\n'\n",
      "exp: 32 17 33 10 40 200 completed\n",
      "b'hostname: sender.qyl-project1.ch-geni-net.geni.uchicago.edu\\nrunning the experiments now queue: 32 bbr_num: 21 cubic_num: 33 bw: 10 rtt: 40\\n'\n",
      "exp: 32 21 33 10 40 200 completed\n",
      "b'hostname: sender.qyl-project1.ch-geni-net.geni.uchicago.edu\\nrunning the experiments now queue: 32 bbr_num: 25 cubic_num: 33 bw: 10 rtt: 40\\n'\n",
      "exp: 32 25 33 10 40 200 completed\n",
      "b'hostname: sender.qyl-project1.ch-geni-net.geni.uchicago.edu\\nrunning the experiments now queue: 32 bbr_num: 29 cubic_num: 33 bw: 10 rtt: 40\\n'\n",
      "exp: 32 29 33 10 40 200 completed\n",
      "b'hostname: sender.qyl-project1.ch-geni-net.geni.uchicago.edu\\nrunning the experiments now queue: 32 bbr_num: 33 cubic_num: 33 bw: 10 rtt: 40\\n'\n",
      "exp: 32 33 33 10 40 200 completed\n"
     ]
    }
   ],
   "source": [
    "for r_num in reno_num:\n",
    "    for b_num in bbr_num:\n",
    "        output = subprocess.check_output(f\"source exp1_run.sh {queues[q_ind]} {b_num} {r_num} {bw} {rtt} {times[q_ind]}\", shell=True, executable=\"/bin/bash\")\n",
    "#                 os.environ.update(line.partition('=')[::2] for line in output.split('\\0'))\n",
    "#                 !source exp1_run.sh $q $b_num $r_num $bw $rtt\n",
    "        print(output)\n",
    "        time.sleep(times[q_ind]+5)\n",
    "        print(f'exp: {queues[q_ind]} {b_num} {r_num} {bw} {rtt} {times[q_ind]} completed')"
   ]
  },
  {
   "cell_type": "markdown",
   "id": "5be0307a",
   "metadata": {},
   "source": [
    "### vizualize the curves"
   ]
  },
  {
   "cell_type": "code",
   "execution_count": 6,
   "id": "8f576f21",
   "metadata": {},
   "outputs": [
    {
     "ename": "FileNotFoundError",
     "evalue": "[Errno 2] No such file or directory: 'iperf3_results/bbr_1_1_1_20_40.json'",
     "output_type": "error",
     "traceback": [
      "\u001b[0;31m---------------------------------------------------------------------------\u001b[0m",
      "\u001b[0;31mFileNotFoundError\u001b[0m                         Traceback (most recent call last)",
      "\u001b[0;32m/tmp/ipykernel_27091/1690353184.py\u001b[0m in \u001b[0;36m<module>\u001b[0;34m\u001b[0m\n\u001b[0;32m----> 1\u001b[0;31m \u001b[0mbbr_f\u001b[0m \u001b[0;34m=\u001b[0m \u001b[0mopen\u001b[0m\u001b[0;34m(\u001b[0m\u001b[0;34m'iperf3_results/bbr_1_1_1_20_40.json'\u001b[0m\u001b[0;34m)\u001b[0m\u001b[0;34m\u001b[0m\u001b[0;34m\u001b[0m\u001b[0m\n\u001b[0m\u001b[1;32m      2\u001b[0m \u001b[0mreno_f\u001b[0m \u001b[0;34m=\u001b[0m \u001b[0mopen\u001b[0m\u001b[0;34m(\u001b[0m\u001b[0;34m'iperf3_results/reno_1_1_1_20_40.json'\u001b[0m\u001b[0;34m)\u001b[0m\u001b[0;34m\u001b[0m\u001b[0;34m\u001b[0m\u001b[0m\n\u001b[1;32m      3\u001b[0m \u001b[0mbbr_data\u001b[0m\u001b[0;34m,\u001b[0m \u001b[0mreno_data\u001b[0m \u001b[0;34m=\u001b[0m \u001b[0mjson\u001b[0m\u001b[0;34m.\u001b[0m\u001b[0mload\u001b[0m\u001b[0;34m(\u001b[0m\u001b[0mbbr_f\u001b[0m\u001b[0;34m)\u001b[0m\u001b[0;34m,\u001b[0m \u001b[0mjson\u001b[0m\u001b[0;34m.\u001b[0m\u001b[0mload\u001b[0m\u001b[0;34m(\u001b[0m\u001b[0mreno_f\u001b[0m\u001b[0;34m)\u001b[0m\u001b[0;34m\u001b[0m\u001b[0;34m\u001b[0m\u001b[0m\n\u001b[1;32m      4\u001b[0m \u001b[0mbbr_rates\u001b[0m\u001b[0;34m,\u001b[0m \u001b[0mreno_rates\u001b[0m \u001b[0;34m=\u001b[0m \u001b[0mpd\u001b[0m\u001b[0;34m.\u001b[0m\u001b[0mDataFrame\u001b[0m\u001b[0;34m(\u001b[0m\u001b[0;34m{\u001b[0m\u001b[0;34m}\u001b[0m\u001b[0;34m)\u001b[0m\u001b[0;34m,\u001b[0m \u001b[0mpd\u001b[0m\u001b[0;34m.\u001b[0m\u001b[0mDataFrame\u001b[0m\u001b[0;34m(\u001b[0m\u001b[0;34m{\u001b[0m\u001b[0;34m}\u001b[0m\u001b[0;34m)\u001b[0m\u001b[0;34m\u001b[0m\u001b[0;34m\u001b[0m\u001b[0m\n",
      "\u001b[0;31mFileNotFoundError\u001b[0m: [Errno 2] No such file or directory: 'iperf3_results/bbr_1_1_1_20_40.json'"
     ]
    }
   ],
   "source": [
    "bbr_f = open('iperf3_results/bbr_1_1_1_20_40.json')\n",
    "reno_f = open('iperf3_results/reno_1_1_1_20_40.json')\n",
    "bbr_data, reno_data = json.load(bbr_f), json.load(reno_f)\n",
    "bbr_rates, reno_rates = pd.DataFrame({}), pd.DataFrame({})"
   ]
  },
  {
   "cell_type": "code",
   "execution_count": null,
   "id": "402ee1bb",
   "metadata": {},
   "outputs": [],
   "source": []
  },
  {
   "cell_type": "code",
   "execution_count": null,
   "id": "a22f0466",
   "metadata": {},
   "outputs": [],
   "source": []
  }
 ],
 "metadata": {
  "kernelspec": {
   "display_name": "Python 3 (ipykernel)",
   "language": "python",
   "name": "python3"
  },
  "language_info": {
   "codemirror_mode": {
    "name": "ipython",
    "version": 3
   },
   "file_extension": ".py",
   "mimetype": "text/x-python",
   "name": "python",
   "nbconvert_exporter": "python",
   "pygments_lexer": "ipython3",
   "version": "3.9.7"
  }
 },
 "nbformat": 4,
 "nbformat_minor": 5
}
