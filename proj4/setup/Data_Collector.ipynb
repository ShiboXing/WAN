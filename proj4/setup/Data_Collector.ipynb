{
 "cells": [
  {
   "cell_type": "code",
   "execution_count": 1,
   "id": "7c1c5192",
   "metadata": {},
   "outputs": [],
   "source": [
    "import pandas as pd\n",
    "import time, os, json\n",
    "import subprocess"
   ]
  },
  {
   "cell_type": "code",
   "execution_count": 2,
   "id": "b4865751",
   "metadata": {},
   "outputs": [],
   "source": [
    "bw = 10 # mb\n",
    "rtt = 40 # ms\n",
    "reno_num = range(1, 34, 4)\n",
    "bbr_num = range(1, 34, 4)\n",
    "\n",
    "queues = [0.25, 0.5, 1, 4, 8, 16, 32]\n",
    "times = [60, 60, 60, 60, 60, 100, 200]\n",
    "q_ind = 0\n"
   ]
  },
  {
   "cell_type": "markdown",
   "id": "6db4c2d9",
   "metadata": {},
   "source": [
    "### total experiment time (hours)"
   ]
  },
  {
   "cell_type": "code",
   "execution_count": 3,
   "id": "7748699e",
   "metadata": {},
   "outputs": [
    {
     "data": {
      "text/plain": [
       "13.5"
      ]
     },
     "execution_count": 3,
     "metadata": {},
     "output_type": "execute_result"
    }
   ],
   "source": [
    "comb = len(reno_num) * len(bbr_num)\n",
    "(comb * 5 * 60 + comb * 1 * 100 + comb * 1 * 200) / 3600"
   ]
  },
  {
   "cell_type": "markdown",
   "id": "1091e0aa",
   "metadata": {},
   "source": [
    "### EXP1, 2 data collection"
   ]
  },
  {
   "cell_type": "markdown",
   "id": "c1e3dfda",
   "metadata": {
    "scrolled": true
   },
   "source": [
    "!source testbed_setup.sh\n",
    "!source exp1_kill.sh"
   ]
  },
  {
   "cell_type": "code",
   "execution_count": 4,
   "id": "5fdf64cd",
   "metadata": {},
   "outputs": [
    {
     "name": "stdout",
     "output_type": "stream",
     "text": [
      "b'hostname: sender.qyl-project1.ch-geni-net.geni.uchicago.edu\\nrunning the experiments now queue: 32 bbr_num: 1 cubic_num: 1 bw: 10 rtt: 40\\n'\n"
     ]
    },
    {
     "name": "stderr",
     "output_type": "stream",
     "text": [
      "ERROR:root:Internal Python error in the inspect module.\n",
      "Below is the traceback from this internal error.\n",
      "\n",
      "\n",
      "KeyboardInterrupt\n",
      "\n"
     ]
    }
   ],
   "source": [
    "for r_num in reno_num:\n",
    "    for b_num in bbr_num:\n",
    "        output = subprocess.check_output(f\"source exp1_run.sh {queues[q_ind]} {b_num} {r_num} {bw} {rtt} {times[q_ind]}\", shell=True, executable=\"/bin/bash\")\n",
    "#                 os.environ.update(line.partition('=')[::2] for line in output.split('\\0'))\n",
    "#                 !source exp1_run.sh $q $b_num $r_num $bw $rtt\n",
    "        print(output)\n",
    "        time.sleep(times[q_ind]+5)\n",
    "        print(f'exp: {queues[q_ind]} {b_num} {r_num} {bw} {rtt} {times[q_ind]} completed')"
   ]
  },
  {
   "cell_type": "markdown",
   "id": "5be0307a",
   "metadata": {},
   "source": [
    "### EXP 3 data collection"
   ]
  },
  {
   "cell_type": "code",
   "execution_count": 13,
   "id": "8f576f21",
   "metadata": {},
   "outputs": [],
   "source": [
    "bw = 10 # mb\n",
    "rtt = 40 # ms\n",
    "reno_num = (9, 13)\n",
    "bbr_num = (9, 13)\n",
    "bdp = 4\n",
    "loss_rate = [1, 2, 5, 10, 20, 50]"
   ]
  },
  {
   "cell_type": "code",
   "execution_count": 14,
   "id": "402ee1bb",
   "metadata": {},
   "outputs": [
    {
     "name": "stdout",
     "output_type": "stream",
     "text": [
      "b'hostname: sender.qyl-project1.ch-geni-net.geni.uchicago.edu\\nrunning the experiments now queue: 4 bbr_num: 9 cubic_num: 9 bw: 10 rtt: 40\\n'\n",
      "exp: 32 9 9 10 40 200 completed\n",
      "b'hostname: sender.qyl-project1.ch-geni-net.geni.uchicago.edu\\nrunning the experiments now queue: 4 bbr_num: 13 cubic_num: 9 bw: 10 rtt: 40\\n'\n",
      "exp: 32 13 9 10 40 200 completed\n",
      "b'hostname: sender.qyl-project1.ch-geni-net.geni.uchicago.edu\\nrunning the experiments now queue: 4 bbr_num: 9 cubic_num: 13 bw: 10 rtt: 40\\n'\n",
      "exp: 32 9 13 10 40 200 completed\n",
      "b'hostname: sender.qyl-project1.ch-geni-net.geni.uchicago.edu\\nrunning the experiments now queue: 4 bbr_num: 13 cubic_num: 13 bw: 10 rtt: 40\\n'\n",
      "exp: 32 13 13 10 40 200 completed\n"
     ]
    }
   ],
   "source": [
    "for r_num in reno_num:\n",
    "    for b_num in bbr_num:\n",
    "        output = subprocess.check_output(f\"source exp1_run.sh {bdp} {b_num} {r_num} {bw} {rtt} 60\", shell=True, executable=\"/bin/bash\")\n",
    "#                 os.environ.update(line.partition('=')[::2] for line in output.split('\\0'))\n",
    "#                 !source exp1_run.sh $q $b_num $r_num $bw $rtt\n",
    "        print(output)\n",
    "        time.sleep(times[q_ind]+5)\n",
    "        print(f'exp: {queues[q_ind]} {b_num} {r_num} {bw} {rtt} {times[q_ind]} completed')"
   ]
  },
  {
   "cell_type": "code",
   "execution_count": null,
   "id": "a22f0466",
   "metadata": {},
   "outputs": [],
   "source": []
  }
 ],
 "metadata": {
  "kernelspec": {
   "display_name": "Python 3 (ipykernel)",
   "language": "python",
   "name": "python3"
  },
  "language_info": {
   "codemirror_mode": {
    "name": "ipython",
    "version": 3
   },
   "file_extension": ".py",
   "mimetype": "text/x-python",
   "name": "python",
   "nbconvert_exporter": "python",
   "pygments_lexer": "ipython3",
   "version": "3.9.7"
  }
 },
 "nbformat": 4,
 "nbformat_minor": 5
}
